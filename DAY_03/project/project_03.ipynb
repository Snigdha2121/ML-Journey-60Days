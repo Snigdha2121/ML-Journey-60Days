{
  "nbformat": 4,
  "nbformat_minor": 0,
  "metadata": {
    "colab": {
      "provenance": []
    },
    "kernelspec": {
      "name": "python3",
      "display_name": "Python 3"
    },
    "language_info": {
      "name": "python"
    }
  },
  "cells": [
    {
      "cell_type": "markdown",
      "source": [
        "# **Encoding Titanic Dataset**\n",
        "\n"
      ],
      "metadata": {
        "id": "W3Iwaq6utX-B"
      }
    },
    {
      "cell_type": "code",
      "source": [
        "# Step 1: Import Required Libraries\n",
        "import pandas as pd\n",
        "import numpy as np\n",
        "from sklearn.compose import ColumnTransformer\n",
        "from sklearn.preprocessing import OneHotEncoder, LabelEncoder"
      ],
      "metadata": {
        "id": "FEzOhUWU8SXX"
      },
      "execution_count": 24,
      "outputs": []
    },
    {
      "cell_type": "code",
      "source": [
        "# Step 2: Load the Dataset\n",
        "url = \"https://web.stanford.edu/class/archive/cs/cs109/cs109.1166/stuff/titanic.csv\"\n",
        "df = pd.read_csv(url)"
      ],
      "metadata": {
        "id": "J4Qapt7w8c57"
      },
      "execution_count": 25,
      "outputs": []
    },
    {
      "cell_type": "code",
      "source": [
        "# Step 3: Display Dataset Info\n",
        "print(df.head())  # View first few rows\n",
        "print(df.info())  # Check data types"
      ],
      "metadata": {
        "colab": {
          "base_uri": "https://localhost:8080/"
        },
        "id": "Fe7B-Qep8l-n",
        "outputId": "2432ec64-78dc-438a-9cd1-2b538a638b7e"
      },
      "execution_count": 26,
      "outputs": [
        {
          "output_type": "stream",
          "name": "stdout",
          "text": [
            "   Survived  Pclass                                               Name  \\\n",
            "0         0       3                             Mr. Owen Harris Braund   \n",
            "1         1       1  Mrs. John Bradley (Florence Briggs Thayer) Cum...   \n",
            "2         1       3                              Miss. Laina Heikkinen   \n",
            "3         1       1        Mrs. Jacques Heath (Lily May Peel) Futrelle   \n",
            "4         0       3                            Mr. William Henry Allen   \n",
            "\n",
            "      Sex   Age  Siblings/Spouses Aboard  Parents/Children Aboard     Fare  \n",
            "0    male  22.0                        1                        0   7.2500  \n",
            "1  female  38.0                        1                        0  71.2833  \n",
            "2  female  26.0                        0                        0   7.9250  \n",
            "3  female  35.0                        1                        0  53.1000  \n",
            "4    male  35.0                        0                        0   8.0500  \n",
            "<class 'pandas.core.frame.DataFrame'>\n",
            "RangeIndex: 887 entries, 0 to 886\n",
            "Data columns (total 8 columns):\n",
            " #   Column                   Non-Null Count  Dtype  \n",
            "---  ------                   --------------  -----  \n",
            " 0   Survived                 887 non-null    int64  \n",
            " 1   Pclass                   887 non-null    int64  \n",
            " 2   Name                     887 non-null    object \n",
            " 3   Sex                      887 non-null    object \n",
            " 4   Age                      887 non-null    float64\n",
            " 5   Siblings/Spouses Aboard  887 non-null    int64  \n",
            " 6   Parents/Children Aboard  887 non-null    int64  \n",
            " 7   Fare                     887 non-null    float64\n",
            "dtypes: float64(2), int64(4), object(2)\n",
            "memory usage: 55.6+ KB\n",
            "None\n"
          ]
        }
      ]
    },
    {
      "cell_type": "code",
      "source": [
        "# Step 4: Select Categorical Features for Encoding\n",
        "X = df[['Pclass', 'Sex']].copy()  # Only selecting categorical columns"
      ],
      "metadata": {
        "id": "2meP9Kci8jAx"
      },
      "execution_count": 27,
      "outputs": []
    },
    {
      "cell_type": "code",
      "source": [
        "# Step 5: Apply One-Hot Encoding (for independent categorical variables)\n",
        "ct = ColumnTransformer(transformers=[('encoder', OneHotEncoder(), ['Pclass', 'Sex'])], remainder='passthrough')\n",
        "X_encoded = ct.fit_transform(X)  # Transform data"
      ],
      "metadata": {
        "id": "aaUrG1gP8hXX"
      },
      "execution_count": 28,
      "outputs": []
    },
    {
      "cell_type": "code",
      "source": [
        "# Step 6: Apply Label Encoding (for a single categorical variable)\n",
        "le = LabelEncoder()\n",
        "df['Sex_LabelEncoded'] = le.fit_transform(df['Sex'])  # 'male' -> 1, 'female' -> 0"
      ],
      "metadata": {
        "id": "pDdSocTq8gmQ"
      },
      "execution_count": 29,
      "outputs": []
    },
    {
      "cell_type": "code",
      "source": [
        "# Step 7: Display Encoded Data\n",
        "print(\"\\nOne-Hot Encoded Independent Variables:\")\n",
        "print(pd.DataFrame(X_encoded).head())  # Convert to DataFrame for better readability\n",
        "\n",
        "print(\"\\nLabel Encoded 'Sex' Column:\")\n",
        "print(df[['Sex', 'Sex_LabelEncoded']].head())  # Display first 5 rows"
      ],
      "metadata": {
        "colab": {
          "base_uri": "https://localhost:8080/"
        },
        "id": "Hg8FLOtz8fGY",
        "outputId": "e3ac99e1-8fc1-4bc9-b73d-f851846b8e91"
      },
      "execution_count": 30,
      "outputs": [
        {
          "output_type": "stream",
          "name": "stdout",
          "text": [
            "\n",
            "One-Hot Encoded Independent Variables:\n",
            "     0    1    2    3    4\n",
            "0  0.0  0.0  1.0  0.0  1.0\n",
            "1  1.0  0.0  0.0  1.0  0.0\n",
            "2  0.0  0.0  1.0  1.0  0.0\n",
            "3  1.0  0.0  0.0  1.0  0.0\n",
            "4  0.0  0.0  1.0  0.0  1.0\n",
            "\n",
            "Label Encoded 'Sex' Column:\n",
            "      Sex  Sex_LabelEncoded\n",
            "0    male                 1\n",
            "1  female                 0\n",
            "2  female                 0\n",
            "3  female                 0\n",
            "4    male                 1\n"
          ]
        }
      ]
    },
    {
      "cell_type": "code",
      "source": [],
      "metadata": {
        "id": "9oEr1moG8rHq"
      },
      "execution_count": null,
      "outputs": []
    }
  ]
}