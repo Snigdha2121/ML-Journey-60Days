{
  "nbformat": 4,
  "nbformat_minor": 0,
  "metadata": {
    "colab": {
      "provenance": []
    },
    "kernelspec": {
      "name": "python3",
      "display_name": "Python 3"
    },
    "language_info": {
      "name": "python"
    }
  },
  "cells": [
    {
      "cell_type": "markdown",
      "source": [
        "# **Feature Scaling on the Iris Dataset**"
      ],
      "metadata": {
        "id": "W3Iwaq6utX-B"
      }
    },
    {
      "cell_type": "code",
      "execution_count": 1,
      "metadata": {
        "id": "jBH4hDkxpYF-"
      },
      "outputs": [],
      "source": [
        "import pandas as pd  # For handling data in tabular format\n",
        "import numpy as np  # For numerical operations\n",
        "from sklearn import datasets  # To load the Iris dataset\n",
        "from sklearn.model_selection import train_test_split  # To split data\n",
        "from sklearn.preprocessing import MinMaxScaler, StandardScaler  # For feature scaling\n",
        "import matplotlib.pyplot as plt  # For visualization\n"
      ]
    },
    {
      "cell_type": "code",
      "source": [
        "# Load the Iris dataset from sklearn\n",
        "iris = datasets.load_iris()\n",
        "\n",
        "# Convert it into a Pandas DataFrame\n",
        "df = pd.DataFrame(iris.data, columns=iris.feature_names)\n",
        "\n",
        "# Display the first 5 rows\n",
        "print(df.head())"
      ],
      "metadata": {
        "colab": {
          "base_uri": "https://localhost:8080/"
        },
        "id": "_5pfgzFBptbG",
        "outputId": "e83123f7-f30e-4c8d-a27f-ce145426c210"
      },
      "execution_count": 2,
      "outputs": [
        {
          "output_type": "stream",
          "name": "stdout",
          "text": [
            "   sepal length (cm)  sepal width (cm)  petal length (cm)  petal width (cm)\n",
            "0                5.1               3.5                1.4               0.2\n",
            "1                4.9               3.0                1.4               0.2\n",
            "2                4.7               3.2                1.3               0.2\n",
            "3                4.6               3.1                1.5               0.2\n",
            "4                5.0               3.6                1.4               0.2\n"
          ]
        }
      ]
    },
    {
      "cell_type": "code",
      "source": [
        "# Splitting data into 80% training and 20% testing\n",
        "train_data, test_data = train_test_split(df, test_size=0.2, random_state=42)\n",
        "\n",
        "# Display the shape of the train and test sets\n",
        "print(\"Training Data Shape:\", train_data.shape)\n",
        "print(\"Testing Data Shape:\", test_data.shape)\n"
      ],
      "metadata": {
        "colab": {
          "base_uri": "https://localhost:8080/"
        },
        "id": "HZG2CJhrpzGV",
        "outputId": "a54bc7b2-0f3f-471c-e974-e1daeb7ae68e"
      },
      "execution_count": 3,
      "outputs": [
        {
          "output_type": "stream",
          "name": "stdout",
          "text": [
            "Training Data Shape: (120, 4)\n",
            "Testing Data Shape: (30, 4)\n"
          ]
        }
      ]
    },
    {
      "cell_type": "code",
      "source": [
        "# Initialize MinMaxScaler\n",
        "min_max_scaler = MinMaxScaler()\n",
        "\n",
        "# Apply scaling to the training data\n",
        "train_data_normalized = min_max_scaler.fit_transform(train_data)\n",
        "\n",
        "# Apply the same transformation to the test data\n",
        "test_data_normalized = min_max_scaler.transform(test_data)\n",
        "\n",
        "# Convert back to DataFrame for better visualization\n",
        "train_data_normalized = pd.DataFrame(train_data_normalized, columns=df.columns)\n",
        "test_data_normalized = pd.DataFrame(test_data_normalized, columns=df.columns)\n",
        "\n",
        "print(\"First 5 rows of Normalized Training Data:\\n\", train_data_normalized.head())"
      ],
      "metadata": {
        "colab": {
          "base_uri": "https://localhost:8080/"
        },
        "id": "m4of3rejp0VZ",
        "outputId": "b1f46d95-68f6-4cc0-97c2-0bd9d416c818"
      },
      "execution_count": 4,
      "outputs": [
        {
          "output_type": "stream",
          "name": "stdout",
          "text": [
            "First 5 rows of Normalized Training Data:\n",
            "    sepal length (cm)  sepal width (cm)  petal length (cm)  petal width (cm)\n",
            "0           0.088235          0.666667           0.000000          0.041667\n",
            "1           0.411765          1.000000           0.087719          0.125000\n",
            "2           0.705882          0.458333           0.596491          0.541667\n",
            "3           0.147059          0.583333           0.105263          0.041667\n",
            "4           0.029412          0.500000           0.052632          0.041667\n"
          ]
        }
      ]
    },
    {
      "cell_type": "code",
      "source": [
        "# Initialize StandardScaler\n",
        "standard_scaler = StandardScaler()\n",
        "\n",
        "# Apply scaling to the training data\n",
        "train_data_standardized = standard_scaler.fit_transform(train_data)\n",
        "\n",
        "# Apply the same transformation to the test data\n",
        "test_data_standardized = standard_scaler.transform(test_data)\n",
        "\n",
        "# Convert back to DataFrame for better visualization\n",
        "train_data_standardized = pd.DataFrame(train_data_standardized, columns=df.columns)\n",
        "test_data_standardized = pd.DataFrame(test_data_standardized, columns=df.columns)\n",
        "\n",
        "print(\"First 5 rows of Standardized Training Data:\\n\", train_data_standardized.head())"
      ],
      "metadata": {
        "colab": {
          "base_uri": "https://localhost:8080/"
        },
        "id": "ALmHqi1np225",
        "outputId": "57b66d7f-c32b-4fb8-bb94-a3997c5d0acb"
      },
      "execution_count": 5,
      "outputs": [
        {
          "output_type": "stream",
          "name": "stdout",
          "text": [
            "First 5 rows of Standardized Training Data:\n",
            "    sepal length (cm)  sepal width (cm)  petal length (cm)  petal width (cm)\n",
            "0          -1.473937          1.203658          -1.562535         -1.312603\n",
            "1          -0.133071          2.992376          -1.276006         -1.045633\n",
            "2           1.085898          0.085709           0.385858          0.289218\n",
            "3          -1.230143          0.756479          -1.218701         -1.312603\n",
            "4          -1.717731          0.309299          -1.390618         -1.312603\n"
          ]
        }
      ]
    },
    {
      "cell_type": "code",
      "source": [
        "# Plot histograms to compare raw vs. scaled data\n",
        "fig, axes = plt.subplots(1, 3, figsize=(15, 5))\n",
        "\n",
        "# Original Data Histogram\n",
        "axes[0].hist(df.iloc[:, 0], bins=20, color='blue', alpha=0.7)\n",
        "axes[0].set_title('Original Data (Sepal Length)')\n",
        "\n",
        "# Normalized Data Histogram\n",
        "axes[1].hist(train_data_normalized.iloc[:, 0], bins=20, color='green', alpha=0.7)\n",
        "axes[1].set_title('Normalized Data (Sepal Length)')\n",
        "\n",
        "# Standardized Data Histogram\n",
        "axes[2].hist(train_data_standardized.iloc[:, 0], bins=20, color='red', alpha=0.7)\n",
        "axes[2].set_title('Standardized Data (Sepal Length)')\n",
        "\n",
        "plt.show()"
      ],
      "metadata": {
        "colab": {
          "base_uri": "https://localhost:8080/",
          "height": 468
        },
        "id": "kieZyZdmp6HT",
        "outputId": "aa2045c0-dc62-4d02-d05d-96bfe366b3e9"
      },
      "execution_count": 6,
      "outputs": [
        {
          "output_type": "display_data",
          "data": {
            "text/plain": [
              "<Figure size 1500x500 with 3 Axes>"
            ],
            "image/png": "[encoded data removed]"
          },
          "metadata": {}
        }
      ]
    }
  ]
}